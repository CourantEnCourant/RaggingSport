{
 "cells": [
  {
   "cell_type": "code",
   "execution_count": null,
   "id": "f6080c5a",
   "metadata": {},
   "outputs": [
    {
     "data": {
      "application/vnd.jupyter.widget-view+json": {
       "model_id": "6d6d4bf1d6b34c9aa66a663acb3ab1c6",
       "version_major": 2,
       "version_minor": 0
      },
      "text/plain": [
       "Resolving data files:   0%|          | 0/41 [00:00<?, ?it/s]"
      ]
     },
     "metadata": {},
     "output_type": "display_data"
    }
   ],
   "source": [
    "from datasets import load_dataset\n",
    "\n",
    "ds_en = load_dataset(\"wikimedia/wikipedia\", \"20231101.en\", streaming=True, split=\"train\")"
   ]
  },
  {
   "cell_type": "code",
   "execution_count": 2,
   "id": "8b467927",
   "metadata": {},
   "outputs": [],
   "source": [
    "import re\n",
    "def simple_classify(text, keywords):\n",
    "    return any(pattern.search(text) for pattern in keywords)"
   ]
  },
  {
   "cell_type": "code",
   "execution_count": 3,
   "id": "36a500f7",
   "metadata": {},
   "outputs": [],
   "source": [
    "from itertools import islice\n",
    "from tqdm import tqdm\n",
    "from concurrent.futures import ThreadPoolExecutor\n",
    "def parallel_filter(ds, compiled_keywords, max_length=None, stride=1, num_threads=8):\n",
    "    iterable = (x for i, x in enumerate(ds) if i % stride == 0)\n",
    "    if max_length:\n",
    "        iterable = islice(iterable, max_length)\n",
    "    iterable = list(iterable)\n",
    "    \n",
    "    filtered = []\n",
    "\n",
    "    def check(element):\n",
    "        return element if simple_classify(element[\"text\"], compiled_keywords) else None\n",
    "\n",
    "    with ThreadPoolExecutor(max_workers=num_threads) as executor:\n",
    "        results = list(tqdm(executor.map(check, iterable), total=len(iterable)))\n",
    "        \n",
    "    filtered = [result for result in results if result is not None]\n",
    "    return filtered"
   ]
  },
  {
   "cell_type": "code",
   "execution_count": 4,
   "id": "baf83136",
   "metadata": {},
   "outputs": [
    {
     "name": "stderr",
     "output_type": "stream",
     "text": [
      "100%|██████████| 64079/64079 [00:00<00:00, 489012.79it/s]\n"
     ]
    },
    {
     "name": "stdout",
     "output_type": "stream",
     "text": [
      "6552\n"
     ]
    }
   ],
   "source": [
    "import pickle\n",
    "keywords_en = [\n",
    "    r\"\\bsport(s)?\\b\",\n",
    "    r\"\\bathlete(s)?\\b\",\n",
    "    r\"\\bcoach(es)?\\b\"\n",
    "]\n",
    "\n",
    "compiled_patterns = [re.compile(p, re.IGNORECASE) for p in keywords_en]\n",
    "\n",
    "ds_sport_en = parallel_filter(ds_en, compiled_patterns, max_length=100000, stride=100,  num_threads=8)\n",
    "print(len(ds_sport_en))\n",
    "with open(\"../data/corpus/ds_sport_en.pkl\", \"wb\") as f:\n",
    "    pickle.dump(ds_sport_en, f)"
   ]
  },
  {
   "cell_type": "code",
   "execution_count": 5,
   "id": "a6bc55f9",
   "metadata": {},
   "outputs": [
    {
     "name": "stdout",
     "output_type": "stream",
     "text": [
      "{'id': '1727', 'url': 'https://en.wikipedia.org/wiki/Amphipolis', 'title': 'Amphipolis', 'text': 'Amphipolis (; ) is a municipality in the Serres regional unit, Macedonia, Greece. The seat of the municipality is Rodolivos. It was an important ancient Greek polis (city), and later a Roman city, whose large remains can still be seen.\\n\\nAmphipolis was originally a colony of ancient Athenians and was the site of the battle between the Spartans and Athenians in 422 BC. It was later the place where Alexander the Great prepared for campaigns leading to his invasion of Asia in 335 BC. Alexander\\'s three finest admirals, Nearchus, Androsthenes and Laomedon, resided in Amphipolis. After Alexander\\'s death, his wife Roxana and their son Alexander IV were imprisoned and murdered in 311 BC.\\n\\nExcavations in and around the city have revealed important buildings, ancient walls and tombs. The finds are displayed at the archaeological museum of Amphipolis. At the nearby vast Kasta burial mound, an ancient Macedonian tomb has recently been revealed. The Lion of Amphipolis monument nearby is a popular destination for visitors.\\n\\nIt was located within the region of Edonis.\\n\\nHistory\\n\\nOrigins\\n\\nThroughout the 5th century BC, Athens sought to consolidate its control over Thrace, which was strategically important because of its raw materials (the gold and silver of the Pangaion hills and the dense forests that provided timber for naval construction), and the sea routes vital for Athens\\' supply of grain from Scythia. \\nA first unsuccessful attempt at colonisation was in 497\\xa0BC by the Milesian Tyrant Histiaeus. After the defeat of the Persians at the Battle of Marathon in 490 BC, the Athenian general Kimon managed to occupy Eion a few km south on the coast in 476 BC, and turned it into a military base and commercial port. The Athenians founded a first colony at Ennea-Hodoi (‘Nine Ways’) in 465\\xa0BC, but the first ten thousand colonists were massacred by the Thracians. A second attempt took place in 437\\xa0BC on the same site under general Hagnon which was successful. The city and its first impressive and elaborately built walls of 7.5 km length date from this time. The new Athenian colony became quickly of considerable size and wealth.\\n\\nThe new settlement took the name of Amphipolis (literally, \"around the city\"), a name which is the subject of much debate about its etymology. Thucydides claims the name comes from the fact that the Strymon River flows \"around the city\" on two sides; however a note in the Suda (also given in the lexicon of Photius) offers a different explanation apparently given by Marsyas, son of Periander: that a large proportion of the population lived \"around the city\". However, a more probable explanation is the one given by Julius Pollux: that the name indicates the vicinity of an isthmus.\\n\\nAmphipolis quickly became the main power base of the Athenians in Thrace and, consequently, a target of choice for their Spartan adversaries. In 424 BC during the Peloponnesian War the Spartan general Brasidas captured Amphipolis. \\n\\nTwo years later in 422\\xa0BC, a new Athenian force under the general Kleon failed once more during the Battle of Amphipolis at which both Kleon and Brasidas lost their lives. Brasidas survived long enough to hear of the defeat of the Athenians and was buried at Amphipolis with impressive pomp. From then on he was regarded as the founder of the city and honoured with yearly games and sacrifices.\\n\\nThe Athenian population remained very much in the minority in the city and hence Amphipolis remained an independent city and an ally of the Athenians, rather than a colony or member of the Athens-led Delian League. It entered a new phase of prosperity as a cosmopolitan centre.\\n\\nMacedonian rule\\n\\nThe city itself kept its independence until the reign of king Philip II () despite several Athenian attacks, notably because of the government of Callistratus of Aphidnae. In 357\\xa0BC, Philip succeeded where the Athenians had failed and conquered the city, thereby removing the obstacle which Amphipolis presented to Macedonian control over Thrace. According to the historian Theopompus, this conquest came to be the object of a secret accord between Athens and Philip II, who would return the city in exchange for the fortified town of Pydna, but the Macedonian king betrayed the accord, refusing to cede Amphipolis and laying siege to Pydna as well.\\n\\nThe city was not immediately incorporated into the Macedonian kingdom, and for some time preserved its institutions and a certain degree of autonomy. The border of Macedonia was not moved further east; however, Philip sent a number of Macedonian governors to Amphipolis, and in many respects the city was effectively \"Macedonianized\". Nomenclature, the calendar and the currency (the gold stater, created by Philip to capitalise on the gold reserves of the Pangaion hills, replaced the Amphipolitan drachma) were all replaced by Macedonian equivalents. In the reign of Alexander the Great, Amphipolis was an important naval base, and the birthplace of three of the most famous Macedonian admirals: Nearchus, Androsthenes and Laomedon, whose burial place is most likely marked by the famous lion of Amphipolis.\\n\\nThe importance of the city in this period is shown by Alexander the Great\\'s decision that it was one of the six cities at which large luxurious temples costing 1,500 talents were built. Alexander prepared for campaigns here against Thrace in 335\\xa0BC and his army and fleet assembled near the port before the invasion of Asia. The port was also used as naval base during his campaigns in Asia. After Alexander\\'s death, his wife Roxana and their young son Alexander\\xa0IV were exiled by Cassander and later murdered here.\\n\\nThroughout Macedonian sovereignty Amphipolis was a strong fortress of great strategic and economic importance, as shown by inscriptions. Amphipolis became one of the main stops on the Macedonian royal road (as testified by a border stone found between Philippi and Amphipolis giving the distance to the latter), and later on the Via Egnatia, the principal Roman road which crossed the southern Balkans. Apart from the ramparts of the lower town, the gymnasium and a set of well-preserved frescoes from a wealthy villa are the only artifacts from this period that remain visible. Though little is known of the layout of the town, modern knowledge of its institutions is in considerably better shape thanks to a rich epigraphic documentation, including a military ordinance of Philip V and an ephebarchic law from the gymnasium.\\n\\nConquest by the Romans\\n\\nAfter the final victory of Rome over Macedonia in the Battle of Pydna in 168\\xa0BC, Amphipolis became the capital of one of the four mini-republics, or merides, which were created by the Romans out of the kingdom of the Antigonids which succeeded Alexander\\'s empire in Macedon. These merides were gradually incorporated into the Roman client state, and later province, of Thracia. According to the Acts of the Apostles, the apostles Paul and Silas passed through Amphipolis in the early AD\\xa050s, on their journey between Philippi and Thessalonica; where hence they proselytized to the Greeks, including  Epicurean and Stoic philosophers.\\n\\nIn the 1st c. BC the city was badly damaged in the Thracian revolt against Roman rule.\\n\\nRevival in Late Antiquity\\n\\nDuring the period of Late Antiquity, Amphipolis benefited from the increasing economic prosperity of Macedonia, as is evidenced by the large number of Christian churches that were built. Significantly however, these churches were built within a restricted area of the town, sheltered by the walls of the acropolis. This has been taken as evidence that the large fortified perimeter of the ancient town was no longer defendable, and that the population of the city had considerably diminished.\\n\\nNevertheless, the number, size and quality of the churches constructed between the 5th and 6th centuries are impressive. Four basilicas adorned with rich mosaic floors and elaborate architectural sculptures (such as the ram-headed column capitals – see picture) have been excavated, as well as a church with a hexagonal central plan which evokes that of the basilica of St Vitalis in Ravenna. It is difficult to find reasons for such municipal extravagance in such a small town. One possible explanation provided by the historian André Boulanger is that an increasing ‘willingness’ on the part of the wealthy upper classes in the late Roman period to spend money on local gentrification projects (which he terms euergetism, from the Greek verb ; meaning \\'I do good\\') was exploited by the local church to its advantage, which led to a mass gentrification of the urban centre and of the agricultural riches of the city\\'s territory. Amphipolis was also a diocese under the metropolitan see of Thessalonica – the Bishop of Amphipolis is first mentioned in 533. The bishopric is today listed by the Catholic Church as a titular see.\\n\\nFinal decline of the city\\n\\nThe Slavic invasions of the late 6th century gradually encroached on the back-country Amphipolitan lifestyle and led to the decline of the town, during which period its inhabitants retreated to the area around the acropolis. The ramparts were maintained to a certain extent, thanks to materials plundered from the monuments of the lower city, and the large unused cisterns of the upper city were occupied by small houses and the workshops of artisans. Around the middle of the 7th century, a further reduction of the inhabited area of the city was followed by an increase in the fortification of the town, with the construction of a new rampart with pentagonal towers cutting through the middle of the remaining monuments. The acropolis, the Roman baths, and especially the episcopal basilica were crossed by this wall.\\n\\nThe city was probably abandoned in the eighth century, as the last bishop was attested at the Second Council of Nicaea in 787. Its inhabitants probably moved to the neighbouring site of ancient Eion, port of Amphipolis, which had been rebuilt and refortified in the Byzantine period under the name “Chrysopolis”. This small port continued to enjoy some prosperity, before being abandoned during the Ottoman period. The last recorded sign of activity in the region of Amphipolis was the construction of a fortified tower to the north in 1367 by the megas primikerios John and the stratopedarches Alexios to protect the land that they had given to the monastery of Pantokrator on Mount Athos.\\n\\nArchaeology\\n\\nThe site was discovered and described by many travellers and archaeologists during the 19th century, including E. Cousinéry (1831) (engraver), Leon Heuzey (1861), and P. Perdrizet (1894–1899). However, excavations did not truly begin until after the Second World War. The Greek Archaeological Society under D. Lazaridis excavated in 1972 and 1985, uncovering a necropolis, the city wall (see photograph), the basilicas, and the acropolis. Further excavations have since uncovered the river bridge, the gymnasium, Greek and Roman villas and numerous tombs etc.\\n\\nParts of the lion monument and tombs were discovered during World War I by Bulgarian and British troops whilst digging trenches in the area. In 1934, M. Feyel, of the École française d\\'Athènes (EfA), led an epigraphical mission to the site and uncovered further remains of the lion monument (a reconstruction was given in the Bulletin de Correspondance Hellénique, a publication of the EfA which is available on line).\\n\\nThe silver ossuary containing the cremated remains of Brasidas and a gold crown (see image) was found in a tomb in pride of place under the Agora.\\n\\nThe Tomb of Amphipolis\\n\\nIn 2012 Greek archaeologists unearthed a large tomb within the Kasta Hill, the biggest burial mound in Greece, northeast of Amphipolis. The large size and quality of the tumulus indicates the prominence of the burials made there, and its dating and the connections of the city with Alexander the Great suggest important occupants. The perimeter wall of the tumulus is  long, and is made of limestone covered with marble.\\n\\nThe tomb comprises three chambers separated by walls. There are two sphinxes just outside the entrance to the tomb. Two of the columns supporting the roof in the first section are in the form of Caryatids, in the 4th century BC style. The excavation revealed a pebble mosaic directly behind the Caryatids and in front of the Macedonian marble door leading to the \"third\" chamber. The mosaic shows the allegory of the abduction of Persephone by Hades, but the persons depicted are Philip and Olympias of Macedon. Hades\\' chariot is drawn by two white horses and led to the underworld by Hermes. The mosaic verifies the Macedonian character of the tomb. As the head of one of the sphinxes was found inside the tomb behind the broken door, it is clear that there were intruders, probably in antiquity.\\n\\nFragments of bones from 5 individuals were found in the cist tomb, the most complete of which is a 60+ year old woman in the deepest layer. Dr. Katerina Peristeri, the archaeologist heading the excavation of the tomb, dates the tomb to the late 4th century BC, the period after the death of Alexander the Great (323\\xa0BC). One theory is that the tomb was built for the mother of Alexander the Great, Olympias.\\n\\nRestoration of the tomb is due for completion in 2023 in the course of which building materials of the grave site which were later used by the Romans elsewhere will be rebuilt in their original location.\\n\\nThe city walls\\n\\nThe original 7.5 km long walls are generally visible, particularly the northern section which is preserved to a height of 7.5m. 5 preserved gates can be seen and notably the gate in front of the wooden bridge.\\n\\nIn early Christian times another, inner, wall was built around the acropolis.\\n\\nThe ancient wooden bridge of Amphipolis\\n\\nThe ancient bridge that crossed the river Strymon was mentioned by Thucydides, was strategic as it controlled access between Macedonia and the Chalkidike in the west to Thrace in the east, and was important for the economy and trade. It was therefore incorporated into the city walls.\\n \\nIt was discovered in 1977 and is a unique find for Greek antiquity. The hundreds of wooden piles have been carbon-dated and show the vast life of the bridge with some piles dating from 760 BC, and others used till about 1800 AD.\\n\\nThe Gymnasium\\n\\nThis was a major public building for the military and gymnastic training of youth as well as for their artistic and intellectual education. It was built in the 4th c. BC and includes a palaestra, the rectangular court surrounded by colonnades with adjoining rooms for many athletic functions. The covered stoa or xystos for indoor training in inclement weather is a long portico 75m long and 7m wide to allow 6 runners to compete simultaneously. There was also a parallel outdoor track, paradromida, for training in good weather and a system of cisterns for water supply. \\n\\nDuring the Macedonian era it became a major institution.\\n\\nThe stone stela bearing the rules of the gymnasium was found in the north wing, detailing the duties and powers of the master and the education of the athletes.\\n\\nAfter it was destroyed in the 1st c. BC in the Thracian rebellion against Roman rule, it was rebuilt in Augustus\\'s time in the 1st c. AD along with the rest of the city.\\n\\nAmphipolitans\\nDemetrius of Amphipolis, student of Plato\\nZoilus (400–320\\xa0BC), grammarian, cynic philosopher\\nPamphilus (painter), head of Sicyonian school and teacher of Apelles\\nAetion, sculptor\\nPhilippus of Amphipolis, historian\\nNearchus, admiral\\nErigyius, general\\nDamasias of Amphipolis 320\\xa0BC Stadion Olympics\\nHermagoras of Amphipolis (), stoic philosopher, follower of Persaeus\\nApollodorus of Amphipolis, appointed joint military governor of Babylon and the other satrapies as far as Cilicia by Alexander the Great\\nXena - In the television series Xena Warrior Princess, Amphipolis is the main character\\'s home village.\\n\\nMunicipality\\nThe municipality Amfipoli was formed at the 2011 local government reform by the merger of the following four former municipalities, that became municipal units:\\nAmfipoli\\nKormista\\nProti\\nRodolivos\\n\\nThe municipality has an area of 411.773\\xa0km2, the municipal unit 152.088\\xa0km2.\\n\\nSee also\\nArchaeological Museum of Amphipolis\\nList of ancient Greek cities\\n\\nReferences\\n\\nExternal links\\n\\n Official site about Amphipolis\\n Demographic Information from Greek Travel Pages\\n Livius.org: Amphipolis \\n The tomb of Amphipolis\\n\\nPopulated places in Serres (regional unit)\\nAmphipolis (municipality)\\n437 BC\\n5th-century BC establishments\\n8th-century disestablishments in the Byzantine Empire\\nAncient Amphipolis\\nAncient Greek archaeological sites in Central Macedonia\\nArchaeological sites in Macedonia (Greece)\\nAthenian colonies\\nFormer populated places in Greece\\nPopulated places established in the 5th century BC\\nPopulated places disestablished in the 8th century\\nPopulated places in ancient Macedonia\\nPopulated places in ancient Thrace\\nRoman towns and cities in Greece\\nPopulated places of the Byzantine Empire'}\n"
     ]
    }
   ],
   "source": [
    "print(ds_sport_en[0])"
   ]
  },
  {
   "cell_type": "code",
   "execution_count": 6,
   "id": "595ca076",
   "metadata": {},
   "outputs": [
    {
     "data": {
      "application/vnd.jupyter.widget-view+json": {
       "model_id": "7a3e7224c2524839bb98c611b2eeb3b5",
       "version_major": 2,
       "version_minor": 0
      },
      "text/plain": [
       "Resolving data files:   0%|          | 0/17 [00:00<?, ?it/s]"
      ]
     },
     "metadata": {},
     "output_type": "display_data"
    },
    {
     "name": "stderr",
     "output_type": "stream",
     "text": [
      "100%|██████████| 25647/25647 [00:00<00:00, 270199.58it/s]"
     ]
    },
    {
     "name": "stdout",
     "output_type": "stream",
     "text": [
      "1570\n"
     ]
    },
    {
     "name": "stderr",
     "output_type": "stream",
     "text": [
      "\n"
     ]
    }
   ],
   "source": [
    "ds_fr = load_dataset(\"wikimedia/wikipedia\", \"20231101.fr\", streaming=True, split=\"train\")\n",
    "\n",
    "keywords_fr = [\n",
    "    r\"\\bsport(s)?\\b\",\n",
    "    r\"\\bathl[ée]te(s)?\\b\",\n",
    "    r\"\\bentra[îi]neur(s)?\\b\"\n",
    "]\n",
    "compiled_patterns_fr = [re.compile(p, re.IGNORECASE) for p in keywords_fr]\n",
    "\n",
    "ds_sport_fr = parallel_filter(ds_fr, compiled_patterns_fr, max_length=100000, stride=100, num_threads=8)\n",
    "print(len(ds_sport_fr))\n",
    "with open(\"../data/corpus/ds_sport_fr.pkl\", \"wb\") as f:\n",
    "    pickle.dump(ds_sport_fr, f)"
   ]
  },
  {
   "cell_type": "code",
   "execution_count": 7,
   "id": "3bb77280",
   "metadata": {},
   "outputs": [],
   "source": [
    "ds_zh = load_dataset(\"wikimedia/wikipedia\", \"20231101.zh\", streaming=True, split=\"train\")"
   ]
  },
  {
   "cell_type": "code",
   "execution_count": 8,
   "id": "95e4d518",
   "metadata": {},
   "outputs": [
    {
     "name": "stderr",
     "output_type": "stream",
     "text": [
      "'HTTPSConnectionPool(host='cdn-lfs.hf.co', port=443): Read timed out.' thrown while requesting GET https://huggingface.co/datasets/wikimedia/wikipedia/resolve/b04c8d1ceb2f5cd4588862100d08de323dccfbaa/20231101.zh/train-00004-of-00006.parquet\n",
      "Retrying in 1s [Retry 1/5].\n",
      "100%|██████████| 13848/13848 [00:00<00:00, 135244.37it/s]"
     ]
    },
    {
     "name": "stdout",
     "output_type": "stream",
     "text": [
      "938\n"
     ]
    },
    {
     "name": "stderr",
     "output_type": "stream",
     "text": [
      "\n"
     ]
    }
   ],
   "source": [
    "keywords_zh = [\n",
    "    r\"运动\",\n",
    "    r\"运动员\",\n",
    "    r\"教练\"\n",
    "]\n",
    "compiled_patterns_zh = [re.compile(p, re.IGNORECASE) for p in keywords_zh]\n",
    "ds_sport_zh = parallel_filter(ds_zh, compiled_patterns_zh, max_length=100000, stride=100, num_threads=8)\n",
    "print(len(ds_sport_zh))\n",
    "with open(\"../data/corpus/ds_sport_zh.pkl\", \"wb\") as f:\n",
    "    pickle.dump(ds_sport_zh, f)"
   ]
  },
  {
   "cell_type": "code",
   "execution_count": 1,
   "id": "1fa76be4",
   "metadata": {},
   "outputs": [],
   "source": [
    "import os\n",
    "import re\n",
    "import pickle\n",
    "\n",
    "def sanitize_filename(name):\n",
    "    # remove illegal characters\n",
    "    return re.sub(r'[\\\\/*?:\"<>|]', \"_\", name).strip()\n",
    "\n",
    "def export_dataset_to_txt(pickle_path, output_dir):\n",
    "    os.makedirs(output_dir, exist_ok=True)\n",
    "\n",
    "    with open(pickle_path, \"rb\") as f:\n",
    "        dataset = pickle.load(f)\n",
    "\n",
    "    for i, item in enumerate(dataset):\n",
    "        title = item.get(\"title\", f\"untitled_{i}\")\n",
    "        text = item.get(\"text\", \"\")\n",
    "\n",
    "        safe_title = sanitize_filename(title)\n",
    "        file_path = os.path.join(output_dir, f\"{safe_title}.txt\")\n",
    "\n",
    "        with open(file_path, \"w\", encoding=\"utf-8\") as out_f:\n",
    "            out_f.write(text)\n",
    "\n",
    "    print(f\"Exported {len(dataset)} items to {output_dir}\")"
   ]
  },
  {
   "cell_type": "code",
   "execution_count": 2,
   "id": "b357394b",
   "metadata": {},
   "outputs": [
    {
     "name": "stdout",
     "output_type": "stream",
     "text": [
      "Exported 6552 items to ../data/corpus\n"
     ]
    }
   ],
   "source": [
    "export_dataset_to_txt(\"../data/corpus/ds_sport_en.pkl\", \"../data/corpus\")"
   ]
  },
  {
   "cell_type": "code",
   "execution_count": 3,
   "id": "cb35c8e8",
   "metadata": {},
   "outputs": [
    {
     "name": "stdout",
     "output_type": "stream",
     "text": [
      "Exported 1570 items to ../data/corpus\n"
     ]
    }
   ],
   "source": [
    "export_dataset_to_txt(\"../data/corpus/ds_sport_fr.pkl\", \"../data/corpus\")"
   ]
  },
  {
   "cell_type": "code",
   "execution_count": 4,
   "id": "f37a5252",
   "metadata": {},
   "outputs": [
    {
     "name": "stdout",
     "output_type": "stream",
     "text": [
      "Exported 938 items to ../data/corpus\n"
     ]
    }
   ],
   "source": [
    "export_dataset_to_txt(\"../data/corpus/ds_sport_zh.pkl\", \"../data/corpus\")"
   ]
  }
 ],
 "metadata": {
  "kernelspec": {
   "display_name": "rag",
   "language": "python",
   "name": "python3"
  },
  "language_info": {
   "codemirror_mode": {
    "name": "ipython",
    "version": 3
   },
   "file_extension": ".py",
   "mimetype": "text/x-python",
   "name": "python",
   "nbconvert_exporter": "python",
   "pygments_lexer": "ipython3",
   "version": "3.11.12"
  }
 },
 "nbformat": 4,
 "nbformat_minor": 5
}
